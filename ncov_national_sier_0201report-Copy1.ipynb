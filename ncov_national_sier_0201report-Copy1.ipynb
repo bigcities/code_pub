{
 "cells": [
  {
   "cell_type": "code",
   "execution_count": 1,
   "metadata": {},
   "outputs": [],
   "source": [
    "import numpy as np\n",
    "import pandas as pd\n",
    "import pickle\n",
    "import json\n",
    "import csv\n",
    "import matplotlib.pyplot as plt\n",
    "import matplotlib.dates as mdates\n",
    "import datetime\n",
    "import numpy as np\n",
    "import pandas as pd\n",
    "import datetime as dt"
   ]
  },
  {
   "cell_type": "code",
   "execution_count": 2,
   "metadata": {},
   "outputs": [],
   "source": [
    "from matplotlib.font_manager import *\n",
    "myfont = FontProperties(fname='./objs/simhei.ttf', size=14)"
   ]
  },
  {
   "cell_type": "code",
   "execution_count": 3,
   "metadata": {},
   "outputs": [],
   "source": [
    "def save_obj(obj, name ):\n",
    "    with open('objs/'+ name + '.pkl', 'wb') as f:\n",
    "        pickle.dump(obj, f, pickle.HIGHEST_PROTOCOL)\n",
    "\n",
    "def load_obj(name ):\n",
    "    with open('objs/' + name + '.pkl', 'rb') as f:\n",
    "        return pickle.load(f)"
   ]
  },
  {
   "cell_type": "code",
   "execution_count": 4,
   "metadata": {},
   "outputs": [],
   "source": [
    "ID_city = load_obj('ID_city')\n",
    "city_ID = load_obj('city_ID')\n",
    "ID_net = load_obj('ID_net')\n",
    "city_net = load_obj('city_net')\n",
    "city_prov = load_obj('city_prov')"
   ]
  },
  {
   "cell_type": "code",
   "execution_count": 5,
   "metadata": {},
   "outputs": [
    {
     "data": {
      "text/plain": [
       "1122"
      ]
     },
     "execution_count": 5,
     "metadata": {},
     "output_type": "execute_result"
    }
   ],
   "source": [
    "len(ID_net)"
   ]
  },
  {
   "cell_type": "code",
   "execution_count": 6,
   "metadata": {},
   "outputs": [],
   "source": [
    "origin_data = pd.read_csv('data/epi_initial_new.csv')"
   ]
  },
  {
   "cell_type": "code",
   "execution_count": 7,
   "metadata": {},
   "outputs": [],
   "source": [
    "origin_data = origin_data.sort_values(by = 'ID', ascending= True)"
   ]
  },
  {
   "cell_type": "code",
   "execution_count": 8,
   "metadata": {},
   "outputs": [
    {
     "data": {
      "text/html": [
       "<div>\n",
       "<style scoped>\n",
       "    .dataframe tbody tr th:only-of-type {\n",
       "        vertical-align: middle;\n",
       "    }\n",
       "\n",
       "    .dataframe tbody tr th {\n",
       "        vertical-align: top;\n",
       "    }\n",
       "\n",
       "    .dataframe thead th {\n",
       "        text-align: right;\n",
       "    }\n",
       "</style>\n",
       "<table border=\"1\" class=\"dataframe\">\n",
       "  <thead>\n",
       "    <tr style=\"text-align: right;\">\n",
       "      <th></th>\n",
       "      <th>ID</th>\n",
       "      <th>city</th>\n",
       "      <th>population</th>\n",
       "      <th>2020/1/15</th>\n",
       "      <th>2020/1/16</th>\n",
       "      <th>2020/1/17</th>\n",
       "      <th>2020/1/18</th>\n",
       "      <th>2020/1/19</th>\n",
       "      <th>2020/1/20</th>\n",
       "      <th>2020/1/21</th>\n",
       "      <th>2020/1/22</th>\n",
       "      <th>2020/1/23</th>\n",
       "      <th>2020/1/24</th>\n",
       "      <th>2020/1/25</th>\n",
       "      <th>2020/1/26</th>\n",
       "      <th>2020/1/27</th>\n",
       "      <th>2020/1/28</th>\n",
       "      <th>2020/1/29</th>\n",
       "      <th>2020/1/30</th>\n",
       "      <th>2020/1/31</th>\n",
       "    </tr>\n",
       "  </thead>\n",
       "  <tbody>\n",
       "    <tr>\n",
       "      <th>0</th>\n",
       "      <td>0</td>\n",
       "      <td>厦门市</td>\n",
       "      <td>221</td>\n",
       "      <td>0</td>\n",
       "      <td>0</td>\n",
       "      <td>0</td>\n",
       "      <td>0</td>\n",
       "      <td>0</td>\n",
       "      <td>0</td>\n",
       "      <td>0</td>\n",
       "      <td>0</td>\n",
       "      <td>1</td>\n",
       "      <td>3</td>\n",
       "      <td>3</td>\n",
       "      <td>4</td>\n",
       "      <td>4</td>\n",
       "      <td>6</td>\n",
       "      <td>6</td>\n",
       "      <td>13</td>\n",
       "      <td>13</td>\n",
       "    </tr>\n",
       "    <tr>\n",
       "      <th>1</th>\n",
       "      <td>1</td>\n",
       "      <td>北京市</td>\n",
       "      <td>1363</td>\n",
       "      <td>0</td>\n",
       "      <td>0</td>\n",
       "      <td>0</td>\n",
       "      <td>0</td>\n",
       "      <td>0</td>\n",
       "      <td>2</td>\n",
       "      <td>5</td>\n",
       "      <td>10</td>\n",
       "      <td>22</td>\n",
       "      <td>36</td>\n",
       "      <td>41</td>\n",
       "      <td>68</td>\n",
       "      <td>80</td>\n",
       "      <td>91</td>\n",
       "      <td>111</td>\n",
       "      <td>132</td>\n",
       "      <td>139</td>\n",
       "    </tr>\n",
       "    <tr>\n",
       "      <th>2</th>\n",
       "      <td>2</td>\n",
       "      <td>青岛市</td>\n",
       "      <td>791</td>\n",
       "      <td>0</td>\n",
       "      <td>0</td>\n",
       "      <td>0</td>\n",
       "      <td>0</td>\n",
       "      <td>0</td>\n",
       "      <td>0</td>\n",
       "      <td>1</td>\n",
       "      <td>2</td>\n",
       "      <td>3</td>\n",
       "      <td>4</td>\n",
       "      <td>6</td>\n",
       "      <td>10</td>\n",
       "      <td>13</td>\n",
       "      <td>15</td>\n",
       "      <td>18</td>\n",
       "      <td>21</td>\n",
       "      <td>21</td>\n",
       "    </tr>\n",
       "    <tr>\n",
       "      <th>3</th>\n",
       "      <td>3</td>\n",
       "      <td>海口市</td>\n",
       "      <td>167</td>\n",
       "      <td>0</td>\n",
       "      <td>0</td>\n",
       "      <td>0</td>\n",
       "      <td>0</td>\n",
       "      <td>0</td>\n",
       "      <td>0</td>\n",
       "      <td>0</td>\n",
       "      <td>0</td>\n",
       "      <td>2</td>\n",
       "      <td>3</td>\n",
       "      <td>3</td>\n",
       "      <td>3</td>\n",
       "      <td>4</td>\n",
       "      <td>9</td>\n",
       "      <td>9</td>\n",
       "      <td>9</td>\n",
       "      <td>11</td>\n",
       "    </tr>\n",
       "    <tr>\n",
       "      <th>4</th>\n",
       "      <td>4</td>\n",
       "      <td>武汉市</td>\n",
       "      <td>834</td>\n",
       "      <td>41</td>\n",
       "      <td>41</td>\n",
       "      <td>45</td>\n",
       "      <td>62</td>\n",
       "      <td>198</td>\n",
       "      <td>198</td>\n",
       "      <td>258</td>\n",
       "      <td>363</td>\n",
       "      <td>433</td>\n",
       "      <td>572</td>\n",
       "      <td>618</td>\n",
       "      <td>698</td>\n",
       "      <td>1590</td>\n",
       "      <td>1905</td>\n",
       "      <td>2261</td>\n",
       "      <td>2639</td>\n",
       "      <td>3215</td>\n",
       "    </tr>\n",
       "  </tbody>\n",
       "</table>\n",
       "</div>"
      ],
      "text/plain": [
       "   ID city  population  2020/1/15  2020/1/16  2020/1/17  2020/1/18  2020/1/19  \\\n",
       "0   0  厦门市         221          0          0          0          0          0   \n",
       "1   1  北京市        1363          0          0          0          0          0   \n",
       "2   2  青岛市         791          0          0          0          0          0   \n",
       "3   3  海口市         167          0          0          0          0          0   \n",
       "4   4  武汉市         834         41         41         45         62        198   \n",
       "\n",
       "   2020/1/20  2020/1/21  2020/1/22  2020/1/23  2020/1/24  2020/1/25  \\\n",
       "0          0          0          0          1          3          3   \n",
       "1          2          5         10         22         36         41   \n",
       "2          0          1          2          3          4          6   \n",
       "3          0          0          0          2          3          3   \n",
       "4        198        258        363        433        572        618   \n",
       "\n",
       "   2020/1/26  2020/1/27  2020/1/28  2020/1/29  2020/1/30  2020/1/31  \n",
       "0          4          4          6          6         13         13  \n",
       "1         68         80         91        111        132        139  \n",
       "2         10         13         15         18         21         21  \n",
       "3          3          4          9          9          9         11  \n",
       "4        698       1590       1905       2261       2639       3215  "
      ]
     },
     "execution_count": 8,
     "metadata": {},
     "output_type": "execute_result"
    }
   ],
   "source": [
    "origin_data.head()"
   ]
  },
  {
   "cell_type": "code",
   "execution_count": 10,
   "metadata": {},
   "outputs": [],
   "source": [
    "select_city = ['全国', '北京市', '武汉市', '郑州市', '兰州市', '南昌市', '合肥市', '石家庄市', '天津市', '上海市', '成都市', \\\n",
    "                '广州市', '南京市', '福州市', '乌鲁木齐市', '重庆市', '长沙市', '深圳市', '济南市']"
   ]
  },
  {
   "cell_type": "raw",
   "metadata": {},
   "source": [
    "citylist = list(origin_data.sort_values(by = '2020/1/28', ascending= False)['city'])\n",
    "citylist = [x for x in citylist if x in select_city]"
   ]
  },
  {
   "cell_type": "code",
   "execution_count": 11,
   "metadata": {},
   "outputs": [],
   "source": [
    "citylist = select_city"
   ]
  },
  {
   "cell_type": "code",
   "execution_count": 12,
   "metadata": {},
   "outputs": [],
   "source": [
    "population = origin_data[['ID', 'city', 'population']]"
   ]
  },
  {
   "cell_type": "code",
   "execution_count": 13,
   "metadata": {},
   "outputs": [],
   "source": [
    "epidemic = origin_data.drop(['population', ], axis= 1)"
   ]
  },
  {
   "cell_type": "code",
   "execution_count": 14,
   "metadata": {},
   "outputs": [
    {
     "data": {
      "text/plain": [
       "(37, 19)"
      ]
     },
     "execution_count": 14,
     "metadata": {},
     "output_type": "execute_result"
    }
   ],
   "source": [
    "epidemic.shape"
   ]
  },
  {
   "cell_type": "code",
   "execution_count": 15,
   "metadata": {},
   "outputs": [],
   "source": [
    "epidemic = np.array(epidemic)"
   ]
  },
  {
   "cell_type": "code",
   "execution_count": 18,
   "metadata": {},
   "outputs": [],
   "source": [
    "cure_origin = pd.read_csv('data/epi_cure_new.csv')\n",
    "cure = np.array(cure_origin.drop(['population', ], axis= 1))"
   ]
  },
  {
   "cell_type": "code",
   "execution_count": 19,
   "metadata": {},
   "outputs": [],
   "source": [
    "death_origin = pd.read_csv('data/epi_death_new.csv')\n",
    "death = np.array(death_origin.drop(['population', ], axis= 1))"
   ]
  },
  {
   "cell_type": "code",
   "execution_count": 20,
   "metadata": {},
   "outputs": [
    {
     "data": {
      "text/plain": [
       "['2020/1/15',\n",
       " '2020/1/16',\n",
       " '2020/1/17',\n",
       " '2020/1/18',\n",
       " '2020/1/19',\n",
       " '2020/1/20',\n",
       " '2020/1/21',\n",
       " '2020/1/22',\n",
       " '2020/1/23',\n",
       " '2020/1/24',\n",
       " '2020/1/25',\n",
       " '2020/1/26',\n",
       " '2020/1/27',\n",
       " '2020/1/28',\n",
       " '2020/1/29',\n",
       " '2020/1/30',\n",
       " '2020/1/31']"
      ]
     },
     "execution_count": 20,
     "metadata": {},
     "output_type": "execute_result"
    }
   ],
   "source": [
    "alldates = list(origin_data.columns)[3:]\n",
    "alldates"
   ]
  },
  {
   "cell_type": "code",
   "execution_count": 21,
   "metadata": {},
   "outputs": [
    {
     "data": {
      "text/plain": [
       "array([41, 45, 62, 121, 199, 291, 440, 571, 830, 1274, 1962, 2731, 4502,\n",
       "       5951, 7698, 9692, 11823], dtype=object)"
      ]
     },
     "execution_count": 21,
     "metadata": {},
     "output_type": "execute_result"
    }
   ],
   "source": [
    "national = epidemic[-1, 2:]\n",
    "national"
   ]
  },
  {
   "cell_type": "code",
   "execution_count": 22,
   "metadata": {},
   "outputs": [
    {
     "name": "stdout",
     "output_type": "stream",
     "text": [
      "全国 17\n",
      "北京市 12\n",
      "武汉市 17\n",
      "郑州市 11\n",
      "兰州市 9\n",
      "南昌市 9\n",
      "合肥市 10\n",
      "石家庄市 10\n",
      "天津市 11\n",
      "上海市 12\n",
      "成都市 11\n",
      "广州市 11\n",
      "南京市 9\n",
      "福州市 10\n",
      "乌鲁木齐市 9\n",
      "重庆市 11\n",
      "长沙市 11\n",
      "深圳市 13\n",
      "济南市 8\n"
     ]
    }
   ],
   "source": [
    "for city in citylist:\n",
    "    cityid = city_ID[city]\n",
    "    print(city, np.sum(epidemic[cityid, 2:] > 0))"
   ]
  },
  {
   "cell_type": "code",
   "execution_count": 75,
   "metadata": {},
   "outputs": [],
   "source": [
    "cityname= '全国'"
   ]
  },
  {
   "cell_type": "code",
   "execution_count": 218,
   "metadata": {},
   "outputs": [
    {
     "data": {
      "text/plain": [
       "(array([291, 440, 571, 830, 1274, 1962, 2731, 4502, 5951, 7698, 9692,\n",
       "        11823], dtype=object),\n",
       " array([31, 37, 45, 53, 74, 100, 126, 158, 227, 286, 389, 507],\n",
       "       dtype=object))"
      ]
     },
     "execution_count": 218,
     "metadata": {},
     "output_type": "execute_result"
    }
   ],
   "source": [
    "cityid = city_ID[cityname]\n",
    "greater = np.sum(epidemic[cityid, 2:] > 0)\n",
    "window = max(7, greater)\n",
    "infect_data = epidemic[cityid, -window:][5:]\n",
    "cure_data = cure[cityid, -window:][5:]\n",
    "death_data = death[cityid, -window:][5:]\n",
    "remove_data = cure_data + death_data\n",
    "infect_data, remove_data"
   ]
  },
  {
   "cell_type": "code",
   "execution_count": 219,
   "metadata": {},
   "outputs": [],
   "source": [
    "population = np.array(population)\n",
    "population[-1, 2] = 13000"
   ]
  },
  {
   "cell_type": "code",
   "execution_count": 220,
   "metadata": {},
   "outputs": [
    {
     "data": {
      "text/plain": [
       "130000000"
      ]
     },
     "execution_count": 220,
     "metadata": {},
     "output_type": "execute_result"
    }
   ],
   "source": [
    "init_S = population[cityid, 2] * 10000\n",
    "init_S"
   ]
  },
  {
   "cell_type": "code",
   "execution_count": 27,
   "metadata": {},
   "outputs": [],
   "source": [
    "import scipy.integrate as spi\n",
    "import numpy as np\n",
    "from sklearn.model_selection import ParameterGrid\n",
    "\n",
    "def SIR_eqs(INPUT, t, Lambda, beta, mu, gamma):\n",
    "    Y = np.zeros((3))\n",
    "    Y[0] = Lambda - ((beta * INPUT[0] * INPUT[1]) / sum(INPUT)) - (mu * INPUT[0])\n",
    "    Y[1] = ((beta * INPUT[0] * INPUT[1]) / sum(INPUT)) - gamma * INPUT[1] - mu * INPUT[1]\n",
    "    Y[2] = gamma * INPUT[1] - mu * INPUT[2]\n",
    "\n",
    "    return Y\n",
    "\n",
    "def SIR_base_eqs(INPUT, t, beta, gamma):\n",
    "    Y = np.zeros((3))\n",
    "    Y[0] = - (beta * INPUT[0] * INPUT[1])\n",
    "    Y[1] = (beta * INPUT[0] * INPUT[1]) - gamma * INPUT[1]\n",
    "    Y[2] = gamma * INPUT[1]\n",
    "\n",
    "    return Y\n",
    "\n",
    "def SEIR_eqs(INPUT, t, Lambda, beta, mu, epsilon, gamma):\n",
    "    Y = np.zeros((4))\n",
    "    Y[0] = Lambda - ((beta * INPUT[0] * INPUT[2]) / sum(INPUT)) - (mu * INPUT[0])\n",
    "    Y[1] = ((beta * INPUT[0] * INPUT[2]) / sum(INPUT)) - (epsilon * INPUT[1]) - (mu * INPUT[1])\n",
    "    Y[2] = (epsilon * INPUT[1]) - (gamma * INPUT[2]) - (mu * INPUT[2])\n",
    "    Y[3] = (gamma * INPUT[2]) - (mu * INPUT[3])\n",
    "\n",
    "    return Y\n",
    "\n",
    "def SEIR_base_eqs(INPUT, t, beta, epsilon, gamma):\n",
    "    Y = np.zeros((4))\n",
    "    Y[0] = - (beta * INPUT[0] * INPUT[2])\n",
    "    Y[1] = (beta * INPUT[0] * INPUT[2]) - (epsilon * INPUT[1])\n",
    "    Y[2] = (epsilon * INPUT[1]) - (gamma * INPUT[2])\n",
    "    Y[3] = (gamma * INPUT[2])\n",
    "\n",
    "    return Y\n",
    "\n",
    "def LSM_loss(TRUE, PRED):\n",
    "    return np.sum((np.square(TRUE[:, 2 ] - PRED[:, 2 ])))\n",
    "\n",
    "def GridSearch(ode_eqs, param_grid, param_name, INPUT, t_range, TRUE, loss_func):\n",
    "    ALL_RES = []\n",
    "    Grid = ParameterGrid(param_grid)\n",
    "    for grid in Grid:\n",
    "        args = [grid[name] for name in param_name]\n",
    "        PRED = spi.odeint(ode_eqs, INPUT, t_range, args = tuple(args))\n",
    "        loss = loss_func(TRUE, PRED)\n",
    "        ALL_RES.append({'loss': loss, 'prediction': PRED, 'parameters': grid})\n",
    "        \n",
    "    minloss = ALL_RES[0]['loss']\n",
    "    minind = 0\n",
    "    for i, res in enumerate(ALL_RES):\n",
    "        if res['loss'] < minloss:\n",
    "            minloss = res['loss']\n",
    "            minind = i\n",
    "\n",
    "    return ALL_RES, minind"
   ]
  },
  {
   "cell_type": "code",
   "execution_count": 45,
   "metadata": {},
   "outputs": [],
   "source": [
    "today = dt.datetime.strptime(alldates[-1], '%Y/%m/%d').date()\n",
    "dates = [dt.datetime.strptime(d, '%Y/%m/%d').date() for d in alldates[-7:]]\n",
    "dates += [today + datetime.timedelta(days=x+1) for x in range(3)]"
   ]
  },
  {
   "cell_type": "code",
   "execution_count": 33,
   "metadata": {},
   "outputs": [],
   "source": [
    "def get_gd(data):\n",
    "    ind = 20\n",
    "    last = 0.\n",
    "    for i in range(ind, len(data) - 2):\n",
    "        if (data[i] - data[i-1]) / float(data[i-1]) < last:\n",
    "            return i\n",
    "        last = (data[i] - data[i-1]) / float(data[i-1])\n",
    "    return i"
   ]
  },
  {
   "cell_type": "markdown",
   "metadata": {},
   "source": [
    "## Formal Code"
   ]
  },
  {
   "cell_type": "code",
   "execution_count": 34,
   "metadata": {},
   "outputs": [],
   "source": [
    "def get_ci(predict_value):\n",
    "    s = np.random.poisson(predict_value, 1000000)\n",
    "    return np.percentile(s, [2.5, 97.5])"
   ]
  },
  {
   "cell_type": "code",
   "execution_count": 37,
   "metadata": {},
   "outputs": [],
   "source": [
    "recover_data = load_obj('recover_data_latest')"
   ]
  },
  {
   "cell_type": "code",
   "execution_count": 41,
   "metadata": {},
   "outputs": [
    {
     "data": {
      "text/plain": [
       "5"
      ]
     },
     "execution_count": 41,
     "metadata": {},
     "output_type": "execute_result"
    }
   ],
   "source": [
    "np.max(list(recover_data['全国'].keys()))"
   ]
  },
  {
   "cell_type": "code",
   "execution_count": 97,
   "metadata": {},
   "outputs": [],
   "source": [
    "today = dt.datetime.strptime(alldates[-1], '%Y/%m/%d').date()\n",
    "dates = [dt.datetime.strptime(d, '%Y/%m/%d').date() for d in alldates[-7:]]\n",
    "dates += [today + datetime.timedelta(days=x+1) for x in range(3)]\n",
    "if not os.path.exists('./{}_result/'.format(today)):\n",
    "    os.makedirs('./{}_result/'.format(today))\n",
    "recover_day = np.max(list(recover_data['全国'].keys())) + 1\n",
    "\n",
    "def predict_one_city_old(cityname):\n",
    "    print(\"Predict city {}\".format(cityname))\n",
    "    cityid = city_ID[cityname]\n",
    "    greater = np.sum(epidemic[cityid, 2:] > 0)\n",
    "    window = 8 # max(7, greater)\n",
    "    infect_data = epidemic[cityid, -window:]\n",
    "    cure_data = cure[cityid, -window:]\n",
    "    death_data = death[cityid, -window:]\n",
    "    remove_data = cure_data + death_data\n",
    "\n",
    "    print(\"History Infectious Data \", infect_data)\n",
    "    \n",
    "    init_S = population[cityid, 2] * 10000\n",
    "    print(\"Initial S = {}\".format(init_S))\n",
    "    \n",
    "    print(\"Fitting Model...\")\n",
    "    \n",
    "    param_grid = {'beta': np.arange(5e-9, 1e-6, 5e-9),\n",
    "              'gamma': np.arange(1e-3, 0.1, 2e-3), \n",
    "              'epsilon': np.arange(0.05, 0.5, 0.05)}\n",
    "    if cityname == '全国':\n",
    "        param_grid = {'beta': np.arange(5e-9, 1e-6, 5e-9),\n",
    "                  'gamma': np.arange(1e-3, 0.1, 2e-3), \n",
    "                  'epsilon': np.arange(0.01, 0.1, 0.01)}\n",
    "    param_name = ['beta', 'gamma', 'epsilon']\n",
    "    S0 = init_S\n",
    "    I0 = infect_data[0] - remove_data[0]\n",
    "    if (I0 == 0):\n",
    "        I0 = 1.\n",
    "    E0 = infect_data[0] * 3.\n",
    "    INPUT = (S0, E0, I0, 0.)\n",
    "    t_range = np.arange(0.0, len(infect_data), 1.0)\n",
    "    TRUE = np.random.rand(len(infect_data), 3) * 1e6\n",
    "    TRUE[:, 2] = infect_data - remove_data\n",
    "    ALL_RES, minind = GridSearch(SEIR_base_eqs, param_grid, param_name, INPUT, t_range, TRUE, LSM_loss)\n",
    "\n",
    "    t_range = np.arange(0.0, len(infect_data) + 3, 1.0)\n",
    "    PRED = spi.odeint(SEIR_base_eqs, INPUT, t_range, tuple([ALL_RES[minind]['parameters'][name] for name in param_name]))\n",
    "\n",
    "    r0 = ALL_RES[minind]['parameters']['beta'] / ALL_RES[minind]['parameters']['gamma']\n",
    "\n",
    "    print(ALL_RES[minind]['parameters'])\n",
    "    print(\"今天及未来三天预测: \", PRED[:, 2][-4: ])\n",
    "    print(\"今天感染: \", infect_data[-1])\n",
    "        \n",
    "    plt.plot(dates, PRED[:, 2][-10:], 'b+-')\n",
    "    plt.plot(dates[:7], infect_data[-7:], \"k*:\")\n",
    "    plt.grid(\"True\")\n",
    "    plt.legend([\"Predict Infected\", \"Official Confirmed Data\"])\n",
    "    plt.title(u'{} 预测结果 (数据截止 {})'.format(cityname, str(today)), FontProperties=myfont)\n",
    "    plt.xlabel('Date')\n",
    "    plt.ylabel('Case')\n",
    "    plt.gcf().autofmt_xdate()\n",
    "    plt.savefig('./{}_result/predict_{}.jpg'.format(today, cityname))\n",
    "    plt.show()\n",
    "    \n",
    "    t_range = np.arange(0.0, 150, 1.0)\n",
    "    PRED_ALL = spi.odeint(SEIR_base_eqs, INPUT, t_range, tuple([ALL_RES[minind]['parameters'][name] for name in param_name]))\n",
    "    \n",
    "    heap = np.max(PRED_ALL[:, 2])\n",
    "    gd = get_gd(PRED_ALL[:, 2]) \n",
    "    heap_time = np.argmax(PRED_ALL[:, 2]) \n",
    "    recover_data[cityname][recover_day] = {'peak': heap, 'inflection': gd, 'peak_left': heap_time}\n",
    "    \n",
    "    gd = get_gd(PRED_ALL[:, 2]) - len(infect_data)\n",
    "    peak_left = np.argmax(PRED_ALL[:, 2]) - len(infect_data)\n",
    "    print(\"拐点在 {} 天后，峰值在 {} 天后\".format(gd, peak_left))\n",
    "    print()\n",
    "    \n",
    "    predict_data = {}\n",
    "    predict_data['start_date'] = str(dates[0]); predict_data['end_date'] = str(dates[-1])\n",
    "    predict_data['value'] = [int(v) for v in PRED[:, 2][-10: ]]\n",
    "    cilows = []; cihighs = []\n",
    "    for d, v in zip(dates, list(PRED[:, 2][-10: ])):\n",
    "        ci_low, ci_high = get_ci(v)\n",
    "        cilows.append(int(ci_low)); cihighs.append(int(ci_high))\n",
    "        print('预测值: {:.0f}, 置信区间: [{:.0f}, {:.0f}]'.format(v, ci_low, ci_high))\n",
    "    predict_data['interval_low'] = cilows; predict_data['interval_high'] = cihighs\n",
    "    \n",
    "    official_data = {\n",
    "        'start_date': str(dates[:7][0]), 'end_date': str(dates[:7][-1]),\n",
    "        'value': [float(v) for v in infect_data[-7:]]\n",
    "    }\n",
    "    \n",
    "    exp_data = {\n",
    "        'province': city_prov[cityname],\n",
    "        'city': cityname,\n",
    "        'data': {\n",
    "            'predict': predict_data, \n",
    "            'official_confirmed': official_data,\n",
    "            'peak_left': int(peak_left),\n",
    "            'inflection_left': int(gd),\n",
    "#             'recover_coef': recover_data\n",
    "        }\n",
    "    }\n",
    "    \n",
    "    return {'PRED': PRED[:, 2][-4: ], 'todayinfected': infect_data[-1]}, exp_data"
   ]
  },
  {
   "cell_type": "code",
   "execution_count": null,
   "metadata": {},
   "outputs": [],
   "source": [
    "predictors = {}; jsons = {}\n",
    "for city in citylist:\n",
    "    predictors[city], jsons[city] = predict_one_city_old(city)"
   ]
  },
  {
   "cell_type": "code",
   "execution_count": null,
   "metadata": {},
   "outputs": [],
   "source": [
    "# 添加其他城市\n",
    "other_cities = [x for x in list(origin_data['city']) if not x in citylist]\n",
    "predictors_other, jsons_other = {}, {}\n",
    "for city in other_cities:\n",
    "    predictors_other[city], jsons_other[city] = predict_one_city_old(city)"
   ]
  },
  {
   "cell_type": "code",
   "execution_count": 170,
   "metadata": {},
   "outputs": [],
   "source": [
    "for city in other_cities:\n",
    "    predictors[city], jsons[city] = predictors_other[city], jsons_other[city]"
   ]
  },
  {
   "cell_type": "code",
   "execution_count": null,
   "metadata": {},
   "outputs": [],
   "source": []
  },
  {
   "cell_type": "code",
   "execution_count": null,
   "metadata": {},
   "outputs": [],
   "source": []
  }
 ],
 "metadata": {
  "kernelspec": {
   "display_name": "Python 3",
   "language": "python",
   "name": "python3"
  },
  "language_info": {
   "codemirror_mode": {
    "name": "ipython",
    "version": 3
   },
   "file_extension": ".py",
   "mimetype": "text/x-python",
   "name": "python",
   "nbconvert_exporter": "python",
   "pygments_lexer": "ipython3",
   "version": "3.5.4"
  }
 },
 "nbformat": 4,
 "nbformat_minor": 2
}
